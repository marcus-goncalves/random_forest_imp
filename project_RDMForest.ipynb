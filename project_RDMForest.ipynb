{
 "cells": [
  {
   "cell_type": "code",
   "execution_count": 77,
   "id": "37761728",
   "metadata": {
    "ExecuteTime": {
     "end_time": "2022-05-13T14:35:38.784662Z",
     "start_time": "2022-05-13T14:35:38.212256Z"
    }
   },
   "outputs": [],
   "source": [
    "import pandas as pd\n",
    "import numpy as np\n",
    "from collections import Counter\n",
    "from dataclasses import dataclass\n",
    "from typing import Tuple, List\n",
    "\n",
    "from sklearn.ensemble import RandomForestClassifier\n",
    "from sklearn.metrics import classification_report, confusion_matrix, ConfusionMatrixDisplay\n",
    "from sklearn.model_selection import train_test_split\n",
    "\n",
    "from sklearn.datasets import load_iris"
   ]
  },
  {
   "cell_type": "code",
   "execution_count": 2,
   "id": "5f460e40",
   "metadata": {
    "ExecuteTime": {
     "end_time": "2022-05-13T13:51:19.964381Z",
     "start_time": "2022-05-13T13:51:19.950147Z"
    }
   },
   "outputs": [],
   "source": [
    "iris = load_iris()\n",
    "iris_x = iris[\"data\"]\n",
    "iris_y = iris[\"target\"]\n",
    "\n",
    "X_train, X_test, Y_train, Y_test = train_test_split(iris_x, iris_y, test_size=0.25, random_state=89)"
   ]
  },
  {
   "cell_type": "markdown",
   "id": "6eb38903",
   "metadata": {},
   "source": [
    "# Base Model"
   ]
  },
  {
   "cell_type": "code",
   "execution_count": 3,
   "id": "d260319e",
   "metadata": {
    "ExecuteTime": {
     "end_time": "2022-05-13T13:51:20.965725Z",
     "start_time": "2022-05-13T13:51:20.872758Z"
    }
   },
   "outputs": [],
   "source": [
    "base_model = RandomForestClassifier()\n",
    "base_model.fit(X_train, Y_train)\n",
    "\n",
    "base_model_preds = base_model.predict(X_test)"
   ]
  },
  {
   "cell_type": "code",
   "execution_count": 4,
   "id": "6506fd4e",
   "metadata": {
    "ExecuteTime": {
     "end_time": "2022-05-13T13:51:21.910049Z",
     "start_time": "2022-05-13T13:51:21.894716Z"
    }
   },
   "outputs": [
    {
     "name": "stdout",
     "output_type": "stream",
     "text": [
      "              precision    recall  f1-score   support\n",
      "\n",
      "           0       1.00      1.00      1.00        16\n",
      "           1       0.82      1.00      0.90         9\n",
      "           2       1.00      0.85      0.92        13\n",
      "\n",
      "    accuracy                           0.95        38\n",
      "   macro avg       0.94      0.95      0.94        38\n",
      "weighted avg       0.96      0.95      0.95        38\n",
      "\n"
     ]
    }
   ],
   "source": [
    "print(classification_report(Y_test, base_model_preds))"
   ]
  },
  {
   "cell_type": "code",
   "execution_count": 5,
   "id": "eade5031",
   "metadata": {
    "ExecuteTime": {
     "end_time": "2022-05-13T13:51:23.324034Z",
     "start_time": "2022-05-13T13:51:22.668489Z"
    }
   },
   "outputs": [
    {
     "data": {
      "image/png": "[encoded data removed]",
      "text/plain": [
       "<Figure size 432x288 with 2 Axes>"
      ]
     },
     "metadata": {
      "needs_background": "light"
     },
     "output_type": "display_data"
    }
   ],
   "source": [
    "matrix = confusion_matrix(Y_test, base_model_preds)\n",
    "chart = ConfusionMatrixDisplay(matrix, display_labels=iris.target_names)\n",
    "chart.plot();"
   ]
  },
  {
   "cell_type": "markdown",
   "id": "be8ed024",
   "metadata": {},
   "source": [
    "# Implementation Model"
   ]
  },
  {
   "cell_type": "code",
   "execution_count": 6,
   "id": "408dfb19",
   "metadata": {
    "ExecuteTime": {
     "end_time": "2022-05-13T13:51:23.571433Z",
     "start_time": "2022-05-13T13:51:23.565346Z"
    }
   },
   "outputs": [],
   "source": [
    "@dataclass\n",
    "class Node:\n",
    "    \"\"\"\n",
    "    Smallest object of a Tree\n",
    "    \"\"\"\n",
    "    feature: np.array = None\n",
    "    threshold: float = None\n",
    "    data_left: np.array = None\n",
    "    data_right: np.array = None\n",
    "    gain: float = None\n",
    "    value: float = None"
   ]
  },
  {
   "cell_type": "code",
   "execution_count": 58,
   "id": "887ff3ff",
   "metadata": {
    "ExecuteTime": {
     "end_time": "2022-05-13T14:16:58.274646Z",
     "start_time": "2022-05-13T14:16:58.250514Z"
    }
   },
   "outputs": [],
   "source": [
    "class DecisionTree:\n",
    "    \"\"\"\n",
    "    Build a single decision tree \n",
    "    \"\"\"\n",
    "    def __init__(self, min_sample_split: int = 2, max_depth: int = 2) -> None:\n",
    "        self.min_sample_split: int = min_sample_split\n",
    "        self.max_depth: int = max_depth\n",
    "        self.root: Node = None\n",
    "    \n",
    "    @staticmethod\n",
    "    def _entropy(vector: np.array) -> float:\n",
    "        res: float = 0.0\n",
    "        valid_ints = np.bincount(np.array(vector, dtype=np.int64))\n",
    "        probabilites = valid_ints / len(vector)\n",
    "        \n",
    "        for prob in probabilites:\n",
    "            if prob > 0:\n",
    "                res += prob * np.log2(prob)\n",
    "        \n",
    "        return -res\n",
    "    \n",
    "    def _calculate_gain(self, parent: np.array, left_child: np.array, right_child: np.array) -> float:\n",
    "        val_left = len(left_child) / len(parent) if len(parent) > 0 else 0\n",
    "        val_right = len(right_child) / len(parent) if len(parent) > 0 else 0\n",
    "        \n",
    "        calc_left = val_left * self._entropy(left_child)\n",
    "        calc_right = val_right * self._entropy(right_child)\n",
    "        \n",
    "        return self._entropy(parent) - (calc_left + calc_right)\n",
    "        \n",
    "    def _best_split(self, X: np.array, Y: np.array) -> dict:\n",
    "        res: dict = {}\n",
    "        initial_gain = -999\n",
    "        n_rows, n_cols = X.shape\n",
    "        \n",
    "        for idx in range(n_cols):\n",
    "            X_current = X[:, idx]\n",
    "            \n",
    "            for threshold in np.unique(X_current):\n",
    "                df = np.concatenate((X, Y.reshape(1, -1).T), axis=1)\n",
    "                df_left = np.array([row for row in df if row[idx] <= threshold])\n",
    "                df_right = np.array([row for row in df if row[idx] > threshold])\n",
    "                \n",
    "                if len(df_left) > 0 and len(df_right) > 0:\n",
    "                    tgt = df[:, -1]\n",
    "                    tgt_left = df_left[:, -1]\n",
    "                    tgt_right = df_right[:, -1]\n",
    "                    \n",
    "                    gain = self._calculate_gain(tgt, tgt_left, tgt_right)\n",
    "                    if gain > initial_gain:\n",
    "                        initial_gain = gain\n",
    "                        res = {\n",
    "                            \"feature_idx\": idx,\n",
    "                            \"threshold\": threshold,\n",
    "                            \"df_left\": df_left,\n",
    "                            \"df_right\": df_right,\n",
    "                            \"gain\": gain\n",
    "                        }\n",
    "                        \n",
    "            \n",
    "            return res\n",
    "    \n",
    "    def _build(self, X: np.array, Y: np.array | List, depth:int = 0) -> Node:\n",
    "        n_rows, n_cols = X.shape\n",
    "        \n",
    "        if n_rows >= self.min_sample_split and depth <= self.max_depth:\n",
    "            best = self._best_split(X, Y)\n",
    "            \n",
    "            if \"gain\" in best and best[\"gain\"] > 0:\n",
    "                left_node = self._build(\n",
    "                    X=best[\"df_left\"][:, :-1],\n",
    "                    Y=best[\"df_left\"][:, -1],\n",
    "                    depth= depth + 1\n",
    "                )\n",
    "                right_node = self._build(\n",
    "                    X=best[\"df_right\"][:, :-1],\n",
    "                    Y=best[\"df_right\"][:, -1],\n",
    "                    depth= depth + 1\n",
    "                )\n",
    "                \n",
    "                return Node(\n",
    "                    feature=best[\"feature_idx\"],\n",
    "                    threshold=best[\"threshold\"],\n",
    "                    data_left=left_node,\n",
    "                    data_right=right_node,\n",
    "                    gain=best[\"gain\"]\n",
    "                )\n",
    "        \n",
    "        return Node(value=Counter(Y).most_common(1)[0][0])\n",
    "    \n",
    "    def _predict(self, X: np.array, tree: Node) -> float:\n",
    "        if tree.value != None:\n",
    "            return tree.value\n",
    "        \n",
    "        feature_val = X[tree.feature]\n",
    "        if feature_val <= tree.threshold:\n",
    "            return self._predict(X, tree=tree.data_left)\n",
    "        else:\n",
    "            return self._predict(X, tree=tree.data_right)\n",
    "    \n",
    "    def train(self, X: np.array, Y: np.array) -> None:\n",
    "        self.root = self._build(X, Y)\n",
    "    \n",
    "    def predict(self, X: np.array) -> np.array:\n",
    "        return [self._predict(x, self.root) for x in X]"
   ]
  },
  {
   "cell_type": "code",
   "execution_count": 61,
   "id": "1e1f0c92",
   "metadata": {
    "ExecuteTime": {
     "end_time": "2022-05-13T14:17:58.504368Z",
     "start_time": "2022-05-13T14:17:58.488650Z"
    }
   },
   "outputs": [],
   "source": [
    "class RandomForest:\n",
    "    def __init__(self, forest_size:int = 10, min_samples_split:int = 3, max_depth:int = 5) -> None:\n",
    "        self.forest_size: int = forest_size\n",
    "        self.min_samples_split: int = min_samples_split\n",
    "        self.max_depth: int = max_depth\n",
    "        self.decision_trees: List = []\n",
    "    \n",
    "    @staticmethod\n",
    "    def _sample(X: np.array, Y: np.array) -> Tuple[np.array, np.array]:\n",
    "        n_rows, n_cols = X.shape\n",
    "        \n",
    "        samples = np.random.choice(a=n_rows, size=n_rows, replace=True)\n",
    "        return X[samples], Y[samples]\n",
    "\n",
    "    def train(self, X: np.array, Y: np.array) -> None:\n",
    "        if len(self.decision_trees) > 0:\n",
    "            self.decision_trees = []\n",
    "        \n",
    "        num_tree: int = 0\n",
    "        while num_tree < self.forest_size:\n",
    "            mdl = DecisionTree(\n",
    "                min_sample_split=self.min_samples_split,\n",
    "                max_depth=self.max_depth\n",
    "            )\n",
    "\n",
    "            _X, _Y = self._sample(X, Y)\n",
    "            mdl.train(_X, _Y)\n",
    "            self.decision_trees.append(mdl)\n",
    "            num_tree += 1\n",
    "\n",
    "    \n",
    "    def predict(self, X: np.array) -> np.array:\n",
    "        y: np.array = []\n",
    "        for tree in self.decision_trees:\n",
    "            y.append(tree.predict(X))\n",
    "        \n",
    "        y = np.swapaxes(a=y, axis1=0, axis2=1)\n",
    "        \n",
    "        res: np.array = []\n",
    "        for preds in y:\n",
    "            counter = Counter(preds)\n",
    "            res.append(counter.most_common(1)[0][0])\n",
    "\n",
    "        return res"
   ]
  },
  {
   "cell_type": "code",
   "execution_count": 65,
   "id": "3fa1a90f",
   "metadata": {
    "ExecuteTime": {
     "end_time": "2022-05-13T14:19:26.386045Z",
     "start_time": "2022-05-13T14:19:25.512071Z"
    },
    "scrolled": false
   },
   "outputs": [],
   "source": [
    "mdl = RandomForest(forest_size=100)\n",
    "mdl.train(X_train, Y_train)\n",
    "\n",
    "preds = mdl.predict(X_test)"
   ]
  },
  {
   "cell_type": "code",
   "execution_count": 66,
   "id": "0e234214",
   "metadata": {
    "ExecuteTime": {
     "end_time": "2022-05-13T14:19:26.401878Z",
     "start_time": "2022-05-13T14:19:26.387141Z"
    }
   },
   "outputs": [
    {
     "name": "stdout",
     "output_type": "stream",
     "text": [
      "              precision    recall  f1-score   support\n",
      "\n",
      "           0       0.93      0.88      0.90        16\n",
      "           1       0.50      0.78      0.61         9\n",
      "           2       0.89      0.62      0.73        13\n",
      "\n",
      "    accuracy                           0.76        38\n",
      "   macro avg       0.77      0.76      0.75        38\n",
      "weighted avg       0.82      0.76      0.77        38\n",
      "\n"
     ]
    }
   ],
   "source": [
    "print(classification_report(Y_test, preds))"
   ]
  },
  {
   "cell_type": "code",
   "execution_count": 68,
   "id": "fc9843c8",
   "metadata": {
    "ExecuteTime": {
     "end_time": "2022-05-13T14:20:11.118469Z",
     "start_time": "2022-05-13T14:20:11.007285Z"
    }
   },
   "outputs": [
    {
     "data": {
      "image/png": "[encoded data removed]",
      "text/plain": [
       "<Figure size 432x288 with 2 Axes>"
      ]
     },
     "metadata": {
      "needs_background": "light"
     },
     "output_type": "display_data"
    }
   ],
   "source": [
    "matrix = confusion_matrix(Y_test, preds)\n",
    "chart = ConfusionMatrixDisplay(matrix, display_labels=iris.target_names)\n",
    "\n",
    "chart.plot();"
   ]
  },
  {
   "cell_type": "markdown",
   "id": "74a56b7a",
   "metadata": {},
   "source": [
    "# Model with Transposed Features"
   ]
  },
  {
   "cell_type": "code",
   "execution_count": 83,
   "id": "b2452c4c",
   "metadata": {
    "ExecuteTime": {
     "end_time": "2022-05-13T14:36:38.473949Z",
     "start_time": "2022-05-13T14:36:38.468889Z"
    }
   },
   "outputs": [
    {
     "data": {
      "text/plain": [
       "(112, 4)"
      ]
     },
     "execution_count": 83,
     "metadata": {},
     "output_type": "execute_result"
    }
   ],
   "source": [
    "# Original shape\n",
    "ft.shape"
   ]
  },
  {
   "cell_type": "code",
   "execution_count": 91,
   "id": "909b0abb",
   "metadata": {
    "ExecuteTime": {
     "end_time": "2022-05-13T14:38:47.108710Z",
     "start_time": "2022-05-13T14:38:47.086359Z"
    }
   },
   "outputs": [
    {
     "data": {
      "text/html": [
       "<div>\n",
       "<style scoped>\n",
       "    .dataframe tbody tr th:only-of-type {\n",
       "        vertical-align: middle;\n",
       "    }\n",
       "\n",
       "    .dataframe tbody tr th {\n",
       "        vertical-align: top;\n",
       "    }\n",
       "\n",
       "    .dataframe thead th {\n",
       "        text-align: right;\n",
       "    }\n",
       "</style>\n",
       "<table border=\"1\" class=\"dataframe\">\n",
       "  <thead>\n",
       "    <tr style=\"text-align: right;\">\n",
       "      <th></th>\n",
       "      <th>0</th>\n",
       "      <th>1</th>\n",
       "      <th>2</th>\n",
       "      <th>3</th>\n",
       "    </tr>\n",
       "  </thead>\n",
       "  <tbody>\n",
       "    <tr>\n",
       "      <th>0</th>\n",
       "      <td>4.6</td>\n",
       "      <td>3.1</td>\n",
       "      <td>1.5</td>\n",
       "      <td>0.2</td>\n",
       "    </tr>\n",
       "    <tr>\n",
       "      <th>1</th>\n",
       "      <td>5.6</td>\n",
       "      <td>2.8</td>\n",
       "      <td>4.9</td>\n",
       "      <td>2.0</td>\n",
       "    </tr>\n",
       "    <tr>\n",
       "      <th>2</th>\n",
       "      <td>7.9</td>\n",
       "      <td>3.8</td>\n",
       "      <td>6.4</td>\n",
       "      <td>2.0</td>\n",
       "    </tr>\n",
       "    <tr>\n",
       "      <th>3</th>\n",
       "      <td>4.8</td>\n",
       "      <td>3.0</td>\n",
       "      <td>1.4</td>\n",
       "      <td>0.3</td>\n",
       "    </tr>\n",
       "    <tr>\n",
       "      <th>4</th>\n",
       "      <td>6.3</td>\n",
       "      <td>2.7</td>\n",
       "      <td>4.9</td>\n",
       "      <td>1.8</td>\n",
       "    </tr>\n",
       "  </tbody>\n",
       "</table>\n",
       "</div>"
      ],
      "text/plain": [
       "     0    1    2    3\n",
       "0  4.6  3.1  1.5  0.2\n",
       "1  5.6  2.8  4.9  2.0\n",
       "2  7.9  3.8  6.4  2.0\n",
       "3  4.8  3.0  1.4  0.3\n",
       "4  6.3  2.7  4.9  1.8"
      ]
     },
     "execution_count": 91,
     "metadata": {},
     "output_type": "execute_result"
    }
   ],
   "source": [
    "ft = pd.DataFrame(X_train)\n",
    "ft.head()"
   ]
  },
  {
   "cell_type": "code",
   "execution_count": 89,
   "id": "0b6f6b52",
   "metadata": {
    "ExecuteTime": {
     "end_time": "2022-05-13T14:38:11.219436Z",
     "start_time": "2022-05-13T14:38:11.187189Z"
    }
   },
   "outputs": [
    {
     "data": {
      "text/html": [
       "<div>\n",
       "<style scoped>\n",
       "    .dataframe tbody tr th:only-of-type {\n",
       "        vertical-align: middle;\n",
       "    }\n",
       "\n",
       "    .dataframe tbody tr th {\n",
       "        vertical-align: top;\n",
       "    }\n",
       "\n",
       "    .dataframe thead th {\n",
       "        text-align: right;\n",
       "    }\n",
       "</style>\n",
       "<table border=\"1\" class=\"dataframe\">\n",
       "  <thead>\n",
       "    <tr style=\"text-align: right;\">\n",
       "      <th></th>\n",
       "      <th>0</th>\n",
       "      <th>1</th>\n",
       "      <th>2</th>\n",
       "      <th>3</th>\n",
       "      <th>4</th>\n",
       "      <th>5</th>\n",
       "      <th>6</th>\n",
       "      <th>7</th>\n",
       "      <th>8</th>\n",
       "      <th>9</th>\n",
       "      <th>...</th>\n",
       "      <th>102</th>\n",
       "      <th>103</th>\n",
       "      <th>104</th>\n",
       "      <th>105</th>\n",
       "      <th>106</th>\n",
       "      <th>107</th>\n",
       "      <th>108</th>\n",
       "      <th>109</th>\n",
       "      <th>110</th>\n",
       "      <th>111</th>\n",
       "    </tr>\n",
       "  </thead>\n",
       "  <tbody>\n",
       "    <tr>\n",
       "      <th>0</th>\n",
       "      <td>4.6</td>\n",
       "      <td>5.6</td>\n",
       "      <td>7.9</td>\n",
       "      <td>4.8</td>\n",
       "      <td>6.3</td>\n",
       "      <td>4.9</td>\n",
       "      <td>4.6</td>\n",
       "      <td>6.1</td>\n",
       "      <td>6.7</td>\n",
       "      <td>6.6</td>\n",
       "      <td>...</td>\n",
       "      <td>5.0</td>\n",
       "      <td>5.8</td>\n",
       "      <td>6.3</td>\n",
       "      <td>5.8</td>\n",
       "      <td>5.0</td>\n",
       "      <td>4.6</td>\n",
       "      <td>7.2</td>\n",
       "      <td>6.4</td>\n",
       "      <td>4.8</td>\n",
       "      <td>6.5</td>\n",
       "    </tr>\n",
       "    <tr>\n",
       "      <th>1</th>\n",
       "      <td>3.1</td>\n",
       "      <td>2.8</td>\n",
       "      <td>3.8</td>\n",
       "      <td>3.0</td>\n",
       "      <td>2.7</td>\n",
       "      <td>2.4</td>\n",
       "      <td>3.2</td>\n",
       "      <td>2.8</td>\n",
       "      <td>3.1</td>\n",
       "      <td>3.0</td>\n",
       "      <td>...</td>\n",
       "      <td>3.4</td>\n",
       "      <td>2.7</td>\n",
       "      <td>3.4</td>\n",
       "      <td>2.7</td>\n",
       "      <td>3.5</td>\n",
       "      <td>3.6</td>\n",
       "      <td>3.6</td>\n",
       "      <td>2.8</td>\n",
       "      <td>3.1</td>\n",
       "      <td>3.0</td>\n",
       "    </tr>\n",
       "    <tr>\n",
       "      <th>2</th>\n",
       "      <td>1.5</td>\n",
       "      <td>4.9</td>\n",
       "      <td>6.4</td>\n",
       "      <td>1.4</td>\n",
       "      <td>4.9</td>\n",
       "      <td>3.3</td>\n",
       "      <td>1.4</td>\n",
       "      <td>4.7</td>\n",
       "      <td>5.6</td>\n",
       "      <td>4.4</td>\n",
       "      <td>...</td>\n",
       "      <td>1.6</td>\n",
       "      <td>3.9</td>\n",
       "      <td>5.6</td>\n",
       "      <td>5.1</td>\n",
       "      <td>1.6</td>\n",
       "      <td>1.0</td>\n",
       "      <td>6.1</td>\n",
       "      <td>5.6</td>\n",
       "      <td>1.6</td>\n",
       "      <td>5.2</td>\n",
       "    </tr>\n",
       "    <tr>\n",
       "      <th>3</th>\n",
       "      <td>0.2</td>\n",
       "      <td>2.0</td>\n",
       "      <td>2.0</td>\n",
       "      <td>0.3</td>\n",
       "      <td>1.8</td>\n",
       "      <td>1.0</td>\n",
       "      <td>0.2</td>\n",
       "      <td>1.2</td>\n",
       "      <td>2.4</td>\n",
       "      <td>1.4</td>\n",
       "      <td>...</td>\n",
       "      <td>0.4</td>\n",
       "      <td>1.2</td>\n",
       "      <td>2.4</td>\n",
       "      <td>1.9</td>\n",
       "      <td>0.6</td>\n",
       "      <td>0.2</td>\n",
       "      <td>2.5</td>\n",
       "      <td>2.2</td>\n",
       "      <td>0.2</td>\n",
       "      <td>2.0</td>\n",
       "    </tr>\n",
       "  </tbody>\n",
       "</table>\n",
       "<p>4 rows × 112 columns</p>\n",
       "</div>"
      ],
      "text/plain": [
       "   0    1    2    3    4    5    6    7    8    9    ...  102  103  104  105  \\\n",
       "0  4.6  5.6  7.9  4.8  6.3  4.9  4.6  6.1  6.7  6.6  ...  5.0  5.8  6.3  5.8   \n",
       "1  3.1  2.8  3.8  3.0  2.7  2.4  3.2  2.8  3.1  3.0  ...  3.4  2.7  3.4  2.7   \n",
       "2  1.5  4.9  6.4  1.4  4.9  3.3  1.4  4.7  5.6  4.4  ...  1.6  3.9  5.6  5.1   \n",
       "3  0.2  2.0  2.0  0.3  1.8  1.0  0.2  1.2  2.4  1.4  ...  0.4  1.2  2.4  1.9   \n",
       "\n",
       "   106  107  108  109  110  111  \n",
       "0  5.0  4.6  7.2  6.4  4.8  6.5  \n",
       "1  3.5  3.6  3.6  2.8  3.1  3.0  \n",
       "2  1.6  1.0  6.1  5.6  1.6  5.2  \n",
       "3  0.6  0.2  2.5  2.2  0.2  2.0  \n",
       "\n",
       "[4 rows x 112 columns]"
      ]
     },
     "execution_count": 89,
     "metadata": {},
     "output_type": "execute_result"
    }
   ],
   "source": [
    "# Transposed\n",
    "ft_t = pd.DataFrame(X_train.T)\n",
    "ft_t.head()"
   ]
  },
  {
   "cell_type": "code",
   "execution_count": 87,
   "id": "af5eedce",
   "metadata": {
    "ExecuteTime": {
     "end_time": "2022-05-13T14:37:10.543612Z",
     "start_time": "2022-05-13T14:37:10.524882Z"
    }
   },
   "outputs": [
    {
     "data": {
      "text/plain": [
       "(4, 112)"
      ]
     },
     "execution_count": 87,
     "metadata": {},
     "output_type": "execute_result"
    }
   ],
   "source": [
    "ft_t.shape"
   ]
  },
  {
   "cell_type": "code",
   "execution_count": null,
   "id": "9e308fe3",
   "metadata": {},
   "outputs": [],
   "source": []
  }
 ],
 "metadata": {
  "kernelspec": {
   "display_name": "Python 3 (ipykernel)",
   "language": "python",
   "name": "python3"
  },
  "language_info": {
   "codemirror_mode": {
    "name": "ipython",
    "version": 3
   },
   "file_extension": ".py",
   "mimetype": "text/x-python",
   "name": "python",
   "nbconvert_exporter": "python",
   "pygments_lexer": "ipython3",
   "version": "3.10.4"
  }
 },
 "nbformat": 4,
 "nbformat_minor": 5
}
